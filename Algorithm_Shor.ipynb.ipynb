{
 "cells": [
  {
   "cell_type": "code",
   "execution_count": 25,
   "metadata": {},
   "outputs": [],
   "source": [
    "import matplotlib.pyplot as plt\n",
    "import numpy as np\n",
    "from qiskit import QuantumCircuit, Aer, transpile, assemble\n",
    "from qiskit.visualization import plot_histogram\n",
    "from qiskit.circuit.library import QFT\n",
    "from math import gcd\n",
    "from itertools import count, islice\n",
    "from numpy.random import randint\n",
    "import pandas as pd\n",
    "from fractions import Fraction"
   ]
  },
  {
   "cell_type": "markdown",
   "metadata": {
    "pycharm": {
     "name": "#%% md\n"
    }
   },
   "source": [
    "### 1. Инициализиране на кюбитите"
   ]
  },
  {
   "cell_type": "code",
   "execution_count": 26,
   "metadata": {
    "pycharm": {
     "name": "#%%\n"
    }
   },
   "outputs": [],
   "source": [
    "\"\"\"Прилагане на трансформация на Хадамард към измервателен регистър и NOT-гейт\"\"\"\n",
    "def initialize(circuit, n, m):\n",
    "    circuit.h(range(n)) # Трансформация на Хадамард върху регистър за изчисления\n",
    "    circuit.x(n+m-1) # Х-гейт на последния кюбит"
   ]
  },
  {
   "cell_type": "markdown",
   "metadata": {
    "pycharm": {
     "name": "#%% md\n"
    }
   },
   "source": [
    "### 2.  Карта на модулно експонентиране върху измервателни кюбити"
   ]
  },
  {
   "cell_type": "markdown",
   "metadata": {
    "pycharm": {
     "name": "#%% md\n"
    }
   },
   "source": [
    "Единната операция по-долу представлява\n",
    "$$U = a^x \\text{ mod } 15$$"
   ]
  },
  {
   "cell_type": "code",
   "execution_count": 27,
   "metadata": {
    "pycharm": {
     "name": "#%%\n"
    }
   },
   "outputs": [],
   "source": [
    "from qiskit import QuantumCircuit\n",
    "\n",
    "\"\"\" Mодулна операция с контролирано експонентиране за кодиране на периодичната функция в изчислителния регистър\"\"\"\n",
    "def a_x_mod15(a, x):\n",
    "    if a not in [2,7,8,11,13]:\n",
    "        raise ValueError(\"'a' must be 2,7,8,11 or 13\")\n",
    "    unitary = QuantumCircuit(4)        \n",
    "    for iteration in range(x):\n",
    "        # битова аритметика за представяне на функцията за модулно експоненциране\n",
    "        if a in [2,13]:\n",
    "            unitary.swap(0,1)\n",
    "            unitary.swap(1,2)\n",
    "            unitary.swap(2,3)\n",
    "        if a in [7,8]:\n",
    "            unitary.swap(2,3)\n",
    "            unitary.swap(1,2)\n",
    "            unitary.swap(0,1)\n",
    "        if a == 11:\n",
    "            unitary.swap(1,3)\n",
    "            unitary.swap(0,2)\n",
    "        if a in [7,11,13]:\n",
    "            for q in range(4):\n",
    "                unitary.x(q)\n",
    "    unitary = unitary.to_gate()\n",
    "    unitary.name = \"%i^%i mod 15\" % (a, x)\n",
    "\n",
    "    c_unitary = unitary.control()\n",
    "    return c_unitary"
   ]
  },
  {
   "cell_type": "code",
   "execution_count": 28,
   "metadata": {},
   "outputs": [],
   "source": [
    "def qpe_amod15(a):\n",
    "    n = 4\n",
    "    qc = QuantumCircuit(4+n, n)\n",
    "    for q in range(n):\n",
    "        qc.h(q)     # Инициализиране на q-бити които записват в състояние|+>\n",
    "    qc.x(3+n) # И спомагателен регистър в състояние |1>\n",
    "    for q in range(n): # Изпълнява контролирани-U операции\n",
    "        qc.append(a_x_mod15(a, 2**q), \n",
    "                 [q] + [i+n for i in range(4)])\n",
    "    qc.append(qft_dagger(n), range(n)) # Обратна функция на QFT\n",
    "    qc.measure(range(n), range(n))\n",
    "    # Симулация на резултат\n",
    "    aer_sim = Aer.get_backend('aer_simulator')\n",
    "    t_qc = transpile(qc, aer_sim)\n",
    "    qobj = assemble(t_qc, shots=1)\n",
    "    result = aer_sim.run(qobj, memory=True).result()\n",
    "    readings = result.get_memory()\n",
    "    print(\"Четене от регистър: \" + readings[0])\n",
    "    phase = int(readings[0],2)/(2**n)\n",
    "    print(\"Съответстваща фаза: %f\" % phase)\n",
    "    return phase"
   ]
  },
  {
   "cell_type": "code",
   "execution_count": 29,
   "metadata": {
    "pycharm": {
     "name": "#%%\n"
    }
   },
   "outputs": [],
   "source": [
    "\"\"\"Добавяне на подпрограма за модулно експонентиране към дадена схема и по-нататъшно усъвършенстване на входните данни за функцията mod exp\"\"\"\n",
    "def modular_exponentiation(circuit, n, m, a):\n",
    "    for exp in range(n):\n",
    "        exponent = 2**exp\n",
    "        circuit.append(a_x_mod15(a, exponent), [exp] + list(range(n, n+m)))"
   ]
  },
  {
   "cell_type": "markdown",
   "metadata": {
    "pycharm": {
     "name": "#%% md\n"
    }
   },
   "source": [
    "### 3. Импортираме и схемата за QFT (квантова трансформация на Фурие) и конструираме алгоритъм на Шор."
   ]
  },
  {
   "cell_type": "code",
   "execution_count": 30,
   "metadata": {},
   "outputs": [],
   "source": [
    "def qft_dagger(n):\n",
    "    \"\"\"n-q-бит QFTdagger първият n q-бит във веригата\"\"\"\n",
    "    qc = QuantumCircuit(n)\n",
    "    for qubit in range(n//2):\n",
    "        qc.swap(qubit, n-qubit-1)\n",
    "    for j in range(n):\n",
    "        for m in range(j):\n",
    "            qc.cp(-np.pi/float(2**(j-m)), m, j)\n",
    "        qc.h(j)\n",
    "    qc.name = \"QFT†\"\n",
    "    return qc"
   ]
  },
  {
   "cell_type": "code",
   "execution_count": 31,
   "metadata": {
    "pycharm": {
     "name": "#%%\n"
    }
   },
   "outputs": [],
   "source": [
    "\"\"\"Разкрива периода на модулната експоненциална функция\"\"\"\n",
    "def apply_iqft(circuit, measurement_qubits):\n",
    "    circuit.append(QFT( len(measurement_qubits), do_swaps=False).inverse(), measurement_qubits)"
   ]
  },
  {
   "cell_type": "code",
   "execution_count": 32,
   "metadata": {
    "pycharm": {
     "name": "#%%\n"
    }
   },
   "outputs": [
    {
     "data": {
      "text/html": [
       "<pre style=\"word-wrap: normal;white-space: pre;background: #fff0;line-height: 1.1;font-family: &quot;Courier New&quot;,Courier,monospace\">     ┌───┐                                                            ┌───────┐┌─┐         \n",
       "q_0: ┤ H ├───────■────────────────────────────────────────────────────┤0      ├┤M├─────────\n",
       "     ├───┤       │                                                    │       │└╥┘┌─┐      \n",
       "q_1: ┤ H ├───────┼──────────────■─────────────────────────────────────┤1      ├─╫─┤M├──────\n",
       "     ├───┤       │              │                                     │  QFT† │ ║ └╥┘┌─┐   \n",
       "q_2: ┤ H ├───────┼──────────────┼──────────────■──────────────────────┤2      ├─╫──╫─┤M├───\n",
       "     ├───┤       │              │              │                      │       │ ║  ║ └╥┘┌─┐\n",
       "q_3: ┤ H ├───────┼──────────────┼──────────────┼──────────────■───────┤3      ├─╫──╫──╫─┤M├\n",
       "     └───┘┌──────┴──────┐┌──────┴──────┐┌──────┴──────┐┌──────┴──────┐└───────┘ ║  ║  ║ └╥┘\n",
       "q_4: ─────┤0            ├┤0            ├┤0            ├┤0            ├──────────╫──╫──╫──╫─\n",
       "          │             ││             ││             ││             │          ║  ║  ║  ║ \n",
       "q_5: ─────┤1            ├┤1            ├┤1            ├┤1            ├──────────╫──╫──╫──╫─\n",
       "          │  7^1 mod 15 ││  7^2 mod 15 ││  7^4 mod 15 ││  7^8 mod 15 │          ║  ║  ║  ║ \n",
       "q_6: ─────┤2            ├┤2            ├┤2            ├┤2            ├──────────╫──╫──╫──╫─\n",
       "     ┌───┐│             ││             ││             ││             │          ║  ║  ║  ║ \n",
       "q_7: ┤ X ├┤3            ├┤3            ├┤3            ├┤3            ├──────────╫──╫──╫──╫─\n",
       "     └───┘└─────────────┘└─────────────┘└─────────────┘└─────────────┘          ║  ║  ║  ║ \n",
       "c: 4/═══════════════════════════════════════════════════════════════════════════╩══╩══╩══╩═\n",
       "                                                                                0  1  2  3 </pre>"
      ],
      "text/plain": [
       "     ┌───┐                                                            ┌───────┐┌─┐         \n",
       "q_0: ┤ H ├───────■────────────────────────────────────────────────────┤0      ├┤M├─────────\n",
       "     ├───┤       │                                                    │       │└╥┘┌─┐      \n",
       "q_1: ┤ H ├───────┼──────────────■─────────────────────────────────────┤1      ├─╫─┤M├──────\n",
       "     ├───┤       │              │                                     │  QFT† │ ║ └╥┘┌─┐   \n",
       "q_2: ┤ H ├───────┼──────────────┼──────────────■──────────────────────┤2      ├─╫──╫─┤M├───\n",
       "     ├───┤       │              │              │                      │       │ ║  ║ └╥┘┌─┐\n",
       "q_3: ┤ H ├───────┼──────────────┼──────────────┼──────────────■───────┤3      ├─╫──╫──╫─┤M├\n",
       "     └───┘┌──────┴──────┐┌──────┴──────┐┌──────┴──────┐┌──────┴──────┐└───────┘ ║  ║  ║ └╥┘\n",
       "q_4: ─────┤0            ├┤0            ├┤0            ├┤0            ├──────────╫──╫──╫──╫─\n",
       "          │             ││             ││             ││             │          ║  ║  ║  ║ \n",
       "q_5: ─────┤1            ├┤1            ├┤1            ├┤1            ├──────────╫──╫──╫──╫─\n",
       "          │  7^1 mod 15 ││  7^2 mod 15 ││  7^4 mod 15 ││  7^8 mod 15 │          ║  ║  ║  ║ \n",
       "q_6: ─────┤2            ├┤2            ├┤2            ├┤2            ├──────────╫──╫──╫──╫─\n",
       "     ┌───┐│             ││             ││             ││             │          ║  ║  ║  ║ \n",
       "q_7: ┤ X ├┤3            ├┤3            ├┤3            ├┤3            ├──────────╫──╫──╫──╫─\n",
       "     └───┘└─────────────┘└─────────────┘└─────────────┘└─────────────┘          ║  ║  ║  ║ \n",
       "c: 4/═══════════════════════════════════════════════════════════════════════════╩══╩══╩══╩═\n",
       "                                                                                0  1  2  3 "
      ]
     },
     "execution_count": 32,
     "metadata": {},
     "output_type": "execute_result"
    }
   ],
   "source": [
    "\"\"\"Събираме всичко заедно\"\"\"\n",
    "n = 4; m = 4; a = 7\n",
    "    # Създава QuantumCircuit с n-борй  броящи\n",
    "   # Плюс 4 q-бити за U за да действа по тях\n",
    "qc = QuantumCircuit(n + 4, n)\n",
    "\n",
    "for q in range(n):\n",
    "    qc.h(q)\n",
    "    \n",
    "# Спомагателни регистри в състояние |1>\n",
    "qc.x(3+n)\n",
    "\n",
    "# Do controlled-U operations\n",
    "for q in range(n):\n",
    "    qc.append(a_x_mod15(a, 2**q), \n",
    "             [q] + [i+n for i in range(4)])\n",
    "\n",
    "# Извършва обратно-QFT\n",
    "qc.append(qft_dagger(n), range(n))\n",
    "\n",
    "# Измерва веригата\n",
    "qc.measure(range(n), range(n))\n",
    "qc.draw(fold=-1)\n",
    "\n",
    "    \n",
    " # връща qc\n"
   ]
  },
  {
   "cell_type": "markdown",
   "metadata": {
    "pycharm": {
     "name": "#%% md\n"
    }
   },
   "source": [
    "### Изпълнение на схемата на симулатор"
   ]
  },
  {
   "cell_type": "code",
   "execution_count": 33,
   "metadata": {
    "pycharm": {
     "name": "#%%\n"
    }
   },
   "outputs": [
    {
     "data": {
      "image/png": "[encoded data removed]",
      "text/plain": [
       "<Figure size 504x360 with 1 Axes>"
      ]
     },
     "execution_count": 33,
     "metadata": {},
     "output_type": "execute_result"
    }
   ],
   "source": [
    "aer_sim = Aer.get_backend('aer_simulator')\n",
    "t_qc = transpile(qc, aer_sim)\n",
    "qobj = assemble(t_qc)\n",
    "results = aer_sim.run(qobj).result()\n",
    "counts = results.get_counts()\n",
    "plot_histogram(counts)"
   ]
  },
  {
   "cell_type": "code",
   "execution_count": 34,
   "metadata": {},
   "outputs": [
    {
     "name": "stdout",
     "output_type": "stream",
     "text": [
      "      Изход на регистър          Фаза\n",
      "0  1000(bin) =   8(dec)   8/16 = 0.50\n",
      "1  0000(bin) =   0(dec)   0/16 = 0.00\n",
      "2  0100(bin) =   4(dec)   4/16 = 0.25\n",
      "3  1100(bin) =  12(dec)  12/16 = 0.75\n"
     ]
    }
   ],
   "source": [
    "rows, measured_phases = [], []\n",
    "for output in counts:\n",
    "    decimal = int(output, 2)  # Конвертира (база 2) string към decimal\n",
    "    phase = decimal/(2**4)  # Намира съответната собствена стойност\n",
    "    measured_phases.append(phase)\n",
    "    # Добавете тези стойности към редовете в нашата таблица:\n",
    "    rows.append([f\"{output}(bin) = {decimal:>3}(dec)\", \n",
    "                 f\"{decimal}/{2**4} = {phase:.2f}\"])\n",
    "# Отпечатва редовете в таблица\n",
    "headers=[\"Изход на регистър\", \"Фаза\"]\n",
    "df = pd.DataFrame(rows, columns=headers)\n",
    "print(df)"
   ]
  },
  {
   "cell_type": "markdown",
   "metadata": {
    "pycharm": {
     "name": "#%% md\n"
    }
   },
   "source": [
    "\n"
   ]
  },
  {
   "cell_type": "markdown",
   "metadata": {
    "pycharm": {
     "name": "#%% md\n"
    }
   },
   "source": [
    "Сега, след като знаем $r$ , имаме много по-голяма вероятност да намерим простите коефициенти:\n",
    "$$a^r \\bmod N = 1 $$ това означава:\n",
    "$$(a^r - 1) \\bmod N = 0 $$\n",
    "След това  $N$ трябва да се раздели на $a^r-1$. И ако $r$ също е четно, тогава може да твърдим:\n",
    "\n",
    "$$a^r -1 = (a^{r/2}-1)(a^{r/2}+1)$$\n",
    "Ако $r$ не е четно, трябва да рестартираме алгоритъма и да изберем друга стойност. Въпреки това е по-вероятно да се получи четна стойност. При четна стойност можете да изведем простите коефициенти, като използваме законите за първичност и модулната аритметика.\n"
   ]
  },
  {
   "cell_type": "code",
   "execution_count": 35,
   "metadata": {},
   "outputs": [
    {
     "name": "stdout",
     "output_type": "stream",
     "text": [
      "   Фаза Дроб  Предположение за r\n",
      "0  0.50  1/2                   2\n",
      "1  0.00  0/1                   1\n",
      "2  0.25  1/4                   4\n",
      "3  0.75  3/4                   4\n"
     ]
    }
   ],
   "source": [
    "rows = []\n",
    "for phase in measured_phases:\n",
    "    frac = Fraction(phase).limit_denominator(15)\n",
    "    rows.append([phase, f\"{frac.numerator}/{frac.denominator}\", frac.denominator])\n",
    "# Print as a table\n",
    "headers=[\"Фаза\", \"Дроб\", \"Предположение за r\"]\n",
    "df = pd.DataFrame(rows, columns=headers)\n",
    "print(df)\n",
    "\n"
   ]
  },
  {
   "cell_type": "code",
   "execution_count": 36,
   "metadata": {
    "pycharm": {
     "name": "#%%\n"
    }
   },
   "outputs": [
    {
     "name": "stdout",
     "output_type": "stream",
     "text": [
      "\n",
      "Опит 1:\n",
      "Четене от регистър: 0100\n",
      "Съответстваща фаза: 0.250000\n",
      "Резултат: r = 4\n",
      "Познати фактори: 3 и 5\n",
      "*** Основните фактори са: 3 ***\n",
      "*** Основните фактори са: 5 ***\n"
     ]
    }
   ],
   "source": [
    "\"\"\"Намиране на правилната двойка прости коефициенти\"\"\"\n",
    "a = 7\n",
    "factor_found = False\n",
    "attempt = 0\n",
    "while not factor_found:\n",
    "    attempt += 1\n",
    "    print(\"\\nОпит %i:\" % attempt)\n",
    "    phase = qpe_amod15(a) # Фаза = s/r\n",
    "    frac = Fraction(phase).limit_denominator(15) # Деноминатора трябва да изчисли r\n",
    "    r = frac.denominator\n",
    "    print(\"Резултат: r = %i\" % r)\n",
    "    if phase != 0:\n",
    "        # Преположенияата за фактор на gcd(x^{r/2} ±1 , 15)\n",
    "        guesses = [gcd(a**(r//2)-1, 15), gcd(a**(r//2)+1, 15)]\n",
    "        print(\"Познати фактори: %i и %i\" % (guesses[0], guesses[1]))\n",
    "        for guess in guesses:\n",
    "            if guess not in [1,15] and (15 % guess) == 0: # Проверява дали предположението е фактор\n",
    "                print(\"*** Основните фактори са: %i ***\" % guess)\n",
    "                factor_found = True\n",
    "   \n"
   ]
  },
  {
   "cell_type": "code",
   "execution_count": null,
   "metadata": {},
   "outputs": [],
   "source": []
  },
  {
   "cell_type": "code",
   "execution_count": null,
   "metadata": {},
   "outputs": [],
   "source": []
  }
 ],
 "metadata": {
  "kernelspec": {
   "display_name": "Python 3 (ipykernel)",
   "language": "python",
   "name": "python3"
  },
  "language_info": {
   "codemirror_mode": {
    "name": "ipython",
    "version": 3
   },
   "file_extension": ".py",
   "mimetype": "text/x-python",
   "name": "python",
   "nbconvert_exporter": "python",
   "pygments_lexer": "ipython3",
   "version": "3.9.12"
  }
 },
 "nbformat": 4,
 "nbformat_minor": 4
}
